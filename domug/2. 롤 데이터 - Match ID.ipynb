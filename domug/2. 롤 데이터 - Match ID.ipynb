{
 "cells": [
  {
   "cell_type": "code",
   "execution_count": null,
   "metadata": {},
   "outputs": [],
   "source": [
    "import requests as req\n",
    "from bs4 import BeautifulSoup as bs\n",
    "import pandas as pd\n",
    "import re\n",
    "import numpy as np\n",
    "import time"
   ]
  },
  {
   "cell_type": "code",
   "execution_count": null,
   "metadata": {},
   "outputs": [],
   "source": [
    "API = \"RGAPI-144650db-9573-4a50-82ec-d289ff77b9d8\"\n",
    "\n",
    "headers = {\n",
    "    \"User-Agent\": \"Mozilla/5.0 (Windows NT 10.0; Win64; x64) AppleWebKit/537.36 (KHTML, like Gecko) Chrome/85.0.4183.121 Safari/537.36\",\n",
    "    \"Accept-Language\": \"ko-KR,ko;q=0.9,en-US;q=0.8,en;q=0.7\",\n",
    "    \"Accept-Charset\": \"application/x-www-form-urlencoded; charset=UTF-8\",\n",
    "    \"Origin\": \"https://developer.riotgames.com\",\n",
    "    \"X-Riot-Token\": API\n",
    "}\n",
    "\n",
    "df = pd.read_csv(\"account.csv\")\n",
    "user_account = df.account"
   ]
  },
  {
   "cell_type": "code",
   "execution_count": null,
   "metadata": {},
   "outputs": [],
   "source": [
    "URL = \"https://kr.api.riotgames.com/lol/match/v4/matchlists/by-account/{}\".format(user_account[0])\n",
    "res = req.get(URL, headers=headers)\n",
    "res.json().keys()"
   ]
  },
  {
   "cell_type": "code",
   "execution_count": null,
   "metadata": {},
   "outputs": [],
   "source": [
    "match_id_list = []  # match id를 저장해둘 리스트\n",
    "\n",
    "## 모든 account를 돌면서 매치 id들을 가져옴\n",
    "start_time = time.time()\n",
    "tally = 1\n",
    "for account in user_account:\n",
    "    URL = \"https://kr.api.riotgames.com/lol/match/v4/matchlists/by-account/{}\".format(account)\n",
    "    res = req.get(URL, headers=headers)\n",
    "    \n",
    "    # API 사용량 제한에 따라서 생기는 오류 처리\n",
    "    if res.status_code == 200:\n",
    "        pass\n",
    "    elif res.status_code == 429:\n",
    "        while res.status_code != 200:\n",
    "            print(\"API 사용량 초과. 30초 대기\")\n",
    "            time.sleep(30)\n",
    "            res = req.get(URL, headers=headers)\n",
    "            \n",
    "    elif res.status_code == 503:\n",
    "        while res.status_code != 200:\n",
    "            print(\"알 수 없는 오류\")\n",
    "            time.sleep(10)\n",
    "            res = req.get(URL, headers=headers)\n",
    "            \n",
    "    elif res.status_code == 403:\n",
    "        while res.status_code != 200:\n",
    "            print(\"API 갱신 필요\")\n",
    "            break\n",
    "    \n",
    "    \n",
    "    # 매치 ID 저장\n",
    "    for i in range(len(res.json()[\"matches\"])):\n",
    "        match_id = res.json()[\"matches\"][i][\"gameId\"]\n",
    "        # 중복된 매치 ID 빼고 저장\n",
    "        if match_id not in match_id_list:\n",
    "            match_id_list.append(match_id)\n",
    "            \n",
    "    # 현재까지 작업량을 출력\n",
    "    if len(match_id_list) > (3000*tally):\n",
    "        print(\"현재까지 가져온 match id: {}\".format(len(match_id_list)))\n",
    "        print(\"소요된 시간: {}\".format(time.time()-start_time))\n",
    "        print()\n",
    "        tally += 1\n",
    "\n",
    "        \n",
    "print(\"총 걸린 시간: {}\".format(time.time()-start_time))"
   ]
  },
  {
   "cell_type": "code",
   "execution_count": null,
   "metadata": {},
   "outputs": [],
   "source": [
    "len(match_id_list)"
   ]
  },
  {
   "cell_type": "code",
   "execution_count": null,
   "metadata": {},
   "outputs": [],
   "source": [
    "pd.DataFrame(match_id_list).to_csv(\"match_id.csv\", index=False)"
   ]
  },
  {
   "cell_type": "code",
   "execution_count": null,
   "metadata": {},
   "outputs": [],
   "source": []
  }
 ],
 "metadata": {
  "kernelspec": {
   "display_name": "Python 3",
   "language": "python",
   "name": "python3"
  },
  "language_info": {
   "codemirror_mode": {
    "name": "ipython",
    "version": 3
   },
   "file_extension": ".py",
   "mimetype": "text/x-python",
   "name": "python",
   "nbconvert_exporter": "python",
   "pygments_lexer": "ipython3",
   "version": "3.7.6"
  }
 },
 "nbformat": 4,
 "nbformat_minor": 4
}
