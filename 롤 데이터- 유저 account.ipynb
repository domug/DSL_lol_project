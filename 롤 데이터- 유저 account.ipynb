{
 "cells": [
  {
   "cell_type": "code",
   "execution_count": 1,
   "metadata": {},
   "outputs": [],
   "source": [
    "import requests as req\n",
    "from bs4 import BeautifulSoup as bs\n",
    "import pandas as pd\n",
    "import re\n",
    "import numpy as np\n",
    "import time"
   ]
  },
  {
   "cell_type": "code",
   "execution_count": 2,
   "metadata": {},
   "outputs": [],
   "source": [
    "API = \"RGAPI-56ab2022-2df5-4866-8ebc-30b500d85fa1\"\n",
    "\n",
    "headers = {\n",
    "    \"User-Agent\": \"Mozilla/5.0 (Windows NT 10.0; Win64; x64) AppleWebKit/537.36 (KHTML, like Gecko) Chrome/85.0.4183.121 Safari/537.36\",\n",
    "    \"Accept-Language\": \"ko-KR,ko;q=0.9,en-US;q=0.8,en;q=0.7\",\n",
    "    \"Accept-Charset\": \"application/x-www-form-urlencoded; charset=UTF-8\",\n",
    "    \"Origin\": \"https://developer.riotgames.com\",\n",
    "    \"X-Riot-Token\": API\n",
    "}\n"
   ]
  },
  {
   "cell_type": "markdown",
   "metadata": {},
   "source": [
    "# 챌린저 유저 기본정보 가져오기"
   ]
  },
  {
   "cell_type": "code",
   "execution_count": 24,
   "metadata": {},
   "outputs": [
    {
     "name": "stdout",
     "output_type": "stream",
     "text": [
      "(300, 12)\n"
     ]
    },
    {
     "data": {
      "text/html": [
       "<div>\n",
       "<style scoped>\n",
       "    .dataframe tbody tr th:only-of-type {\n",
       "        vertical-align: middle;\n",
       "    }\n",
       "\n",
       "    .dataframe tbody tr th {\n",
       "        vertical-align: top;\n",
       "    }\n",
       "\n",
       "    .dataframe thead th {\n",
       "        text-align: right;\n",
       "    }\n",
       "</style>\n",
       "<table border=\"1\" class=\"dataframe\">\n",
       "  <thead>\n",
       "    <tr style=\"text-align: right;\">\n",
       "      <th></th>\n",
       "      <th>tier</th>\n",
       "      <th>leagueId</th>\n",
       "      <th>summonerId</th>\n",
       "      <th>summonerName</th>\n",
       "      <th>leaguePoints</th>\n",
       "      <th>rank</th>\n",
       "      <th>wins</th>\n",
       "      <th>losses</th>\n",
       "      <th>veteran</th>\n",
       "      <th>inactive</th>\n",
       "      <th>freshBlood</th>\n",
       "      <th>hotStreak</th>\n",
       "    </tr>\n",
       "  </thead>\n",
       "  <tbody>\n",
       "    <tr>\n",
       "      <th>0</th>\n",
       "      <td>CHALLENGER</td>\n",
       "      <td>5cc4fe58-4e57-37f1-9dc3-7c32b2632923</td>\n",
       "      <td>3ATf4fExEgsujITIsfZ39_uj9HO6ZnJbmdmG40qVkivZI2Y</td>\n",
       "      <td>테디봇1호</td>\n",
       "      <td>693</td>\n",
       "      <td>I</td>\n",
       "      <td>442</td>\n",
       "      <td>401</td>\n",
       "      <td>False</td>\n",
       "      <td>False</td>\n",
       "      <td>False</td>\n",
       "      <td>False</td>\n",
       "    </tr>\n",
       "    <tr>\n",
       "      <th>1</th>\n",
       "      <td>CHALLENGER</td>\n",
       "      <td>5cc4fe58-4e57-37f1-9dc3-7c32b2632923</td>\n",
       "      <td>yu4bXchLYXbjEv_Ky_-MDfnXzvLEBQKJ0ewgM2Jd8LeuRmQ</td>\n",
       "      <td>DRX Peach</td>\n",
       "      <td>697</td>\n",
       "      <td>I</td>\n",
       "      <td>477</td>\n",
       "      <td>407</td>\n",
       "      <td>False</td>\n",
       "      <td>False</td>\n",
       "      <td>True</td>\n",
       "      <td>False</td>\n",
       "    </tr>\n",
       "    <tr>\n",
       "      <th>2</th>\n",
       "      <td>CHALLENGER</td>\n",
       "      <td>5cc4fe58-4e57-37f1-9dc3-7c32b2632923</td>\n",
       "      <td>DXJu8toUsNRHzYIbmPC1tuE_S2jXVgDVxLrR1BMeWHqNetY</td>\n",
       "      <td>gkstmdals</td>\n",
       "      <td>948</td>\n",
       "      <td>I</td>\n",
       "      <td>641</td>\n",
       "      <td>530</td>\n",
       "      <td>True</td>\n",
       "      <td>False</td>\n",
       "      <td>False</td>\n",
       "      <td>True</td>\n",
       "    </tr>\n",
       "    <tr>\n",
       "      <th>3</th>\n",
       "      <td>CHALLENGER</td>\n",
       "      <td>5cc4fe58-4e57-37f1-9dc3-7c32b2632923</td>\n",
       "      <td>tYbkQMevsN43mWV0IbXpFNeaS6o1Dzs8jCkxIBaDWoEdnxE</td>\n",
       "      <td>HLE Vsta</td>\n",
       "      <td>1045</td>\n",
       "      <td>I</td>\n",
       "      <td>262</td>\n",
       "      <td>211</td>\n",
       "      <td>True</td>\n",
       "      <td>False</td>\n",
       "      <td>False</td>\n",
       "      <td>False</td>\n",
       "    </tr>\n",
       "    <tr>\n",
       "      <th>4</th>\n",
       "      <td>CHALLENGER</td>\n",
       "      <td>5cc4fe58-4e57-37f1-9dc3-7c32b2632923</td>\n",
       "      <td>nEweCtYc43gustbTPjuC39GymzE4KTt_xTkx5SAZHCCD-2A</td>\n",
       "      <td>Awe Smash</td>\n",
       "      <td>837</td>\n",
       "      <td>I</td>\n",
       "      <td>291</td>\n",
       "      <td>240</td>\n",
       "      <td>False</td>\n",
       "      <td>False</td>\n",
       "      <td>False</td>\n",
       "      <td>False</td>\n",
       "    </tr>\n",
       "  </tbody>\n",
       "</table>\n",
       "</div>"
      ],
      "text/plain": [
       "         tier                              leagueId  \\\n",
       "0  CHALLENGER  5cc4fe58-4e57-37f1-9dc3-7c32b2632923   \n",
       "1  CHALLENGER  5cc4fe58-4e57-37f1-9dc3-7c32b2632923   \n",
       "2  CHALLENGER  5cc4fe58-4e57-37f1-9dc3-7c32b2632923   \n",
       "3  CHALLENGER  5cc4fe58-4e57-37f1-9dc3-7c32b2632923   \n",
       "4  CHALLENGER  5cc4fe58-4e57-37f1-9dc3-7c32b2632923   \n",
       "\n",
       "                                        summonerId summonerName leaguePoints  \\\n",
       "0  3ATf4fExEgsujITIsfZ39_uj9HO6ZnJbmdmG40qVkivZI2Y        테디봇1호          693   \n",
       "1  yu4bXchLYXbjEv_Ky_-MDfnXzvLEBQKJ0ewgM2Jd8LeuRmQ    DRX Peach          697   \n",
       "2  DXJu8toUsNRHzYIbmPC1tuE_S2jXVgDVxLrR1BMeWHqNetY    gkstmdals          948   \n",
       "3  tYbkQMevsN43mWV0IbXpFNeaS6o1Dzs8jCkxIBaDWoEdnxE     HLE Vsta         1045   \n",
       "4  nEweCtYc43gustbTPjuC39GymzE4KTt_xTkx5SAZHCCD-2A    Awe Smash          837   \n",
       "\n",
       "  rank wins losses veteran inactive freshBlood hotStreak  \n",
       "0    I  442    401   False    False      False     False  \n",
       "1    I  477    407   False    False       True     False  \n",
       "2    I  641    530    True    False      False      True  \n",
       "3    I  262    211    True    False      False     False  \n",
       "4    I  291    240   False    False      False     False  "
      ]
     },
     "execution_count": 24,
     "metadata": {},
     "output_type": "execute_result"
    }
   ],
   "source": [
    "challenger_URL = \"https://kr.api.riotgames.com/lol/league/v4/challengerleagues/by-queue/RANKED_SOLO_5x5\"\n",
    "res = req.get(challenger_URL, headers=headers)\n",
    "\n",
    "# 전처리 후 데이터프레임 생성\n",
    "challenger_df = pd.DataFrame(res.json())\n",
    "challenger_entries_df = pd.DataFrame(dict(challenger_df.entries)).T\n",
    "\n",
    "challenger_df = pd.concat([challenger_df, challenger_entries_df], axis=1)\n",
    "challenger_df.drop([\"queue\", \"name\", \"entries\"], axis=1, inplace=True)\n",
    "\n",
    "# 데이터프레임 출력\n",
    "print(challenger_df.shape)\n",
    "challenger_df.head()"
   ]
  },
  {
   "cell_type": "markdown",
   "metadata": {},
   "source": [
    "# 챌린저 유저 account 가져오기"
   ]
  },
  {
   "cell_type": "code",
   "execution_count": 25,
   "metadata": {},
   "outputs": [],
   "source": [
    "c_id = challenger_df.summonerId"
   ]
  },
  {
   "cell_type": "code",
   "execution_count": 27,
   "metadata": {},
   "outputs": [
    {
     "data": {
      "text/plain": [
       "'3ATf4fExEgsujITIsfZ39_uj9HO6ZnJbmdmG40qVkivZI2Y'"
      ]
     },
     "execution_count": 27,
     "metadata": {},
     "output_type": "execute_result"
    }
   ],
   "source": [
    "c_id[0]"
   ]
  },
  {
   "cell_type": "code",
   "execution_count": 29,
   "metadata": {},
   "outputs": [
    {
     "name": "stdout",
     "output_type": "stream",
     "text": [
      "50개의 user account 가져오기 성공\n",
      "100개의 user account 가져오기 성공\n",
      "API 이용량 제한. 30초 대기\n",
      "API 이용량 제한. 30초 대기\n",
      "API 이용량 제한. 30초 대기\n",
      "API 이용량 제한. 30초 대기\n",
      "150개의 user account 가져오기 성공\n",
      "200개의 user account 가져오기 성공\n",
      "API 이용량 제한. 30초 대기\n",
      "API 이용량 제한. 30초 대기\n",
      "API 이용량 제한. 30초 대기\n",
      "API 이용량 제한. 30초 대기\n",
      "250개의 user account 가져오기 성공\n",
      "300개의 user account 가져오기 성공\n"
     ]
    }
   ],
   "source": [
    "# 유저들의 account를 저장할 리스트 생성\n",
    "user_account = []\n",
    "\n",
    "tally = 0  # 제대로 작동하고 있는지 중간중간 출력해주기 위함\n",
    "for ele in c_id:\n",
    "    try:\n",
    "        URL = \"https://kr.api.riotgames.com/lol/summoner/v4/summoners/{}\".format(ele)\n",
    "        res = req.get(URL, headers=headers)\n",
    "        \n",
    "        # API 이용 제한 (2분에 100개) 고려해주기\n",
    "        while res.status_code == 429:\n",
    "            print(\"API 이용량 제한. 30초 대기\")\n",
    "            time.sleep(30)\n",
    "            res = req.get(URL, headers=headers)\n",
    "        \n",
    "        # 챌린저 ID 리스트에 추가\n",
    "        user_account.append(res.json()[\"accountId\"])\n",
    "        tally += 1\n",
    "    \n",
    "    except:\n",
    "        print(\"Unknown Error\")\n",
    "    \n",
    "    if tally%50 == 0:\n",
    "        print(\"{}개의 user account 가져오기 성공\".format(tally))"
   ]
  },
  {
   "cell_type": "code",
   "execution_count": 32,
   "metadata": {},
   "outputs": [],
   "source": [
    "pd.DataFrame(data={\"account\": user_account}).to_csv(\"account.csv\")"
   ]
  }
 ],
 "metadata": {
  "kernelspec": {
   "display_name": "Python 3",
   "language": "python",
   "name": "python3"
  },
  "language_info": {
   "codemirror_mode": {
    "name": "ipython",
    "version": 3
   },
   "file_extension": ".py",
   "mimetype": "text/x-python",
   "name": "python",
   "nbconvert_exporter": "python",
   "pygments_lexer": "ipython3",
   "version": "3.7.6"
  }
 },
 "nbformat": 4,
 "nbformat_minor": 4
}
